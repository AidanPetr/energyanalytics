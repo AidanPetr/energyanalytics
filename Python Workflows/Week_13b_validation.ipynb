{
 "cells": [
  {
   "cell_type": "markdown",
   "metadata": {},
   "source": [
    "<p align=\"center\">\n",
    "    <img src=\"https://github.com/jessepisel/energy_analytics/blob/master/EA_logo.jpg?raw=true\" width=\"220\" height=\"240\" />\n",
    "\n",
    "</p>\n",
    "\n",
    "# Neural Networks Validation and Inference\n",
    "## Freshman Research Initiative Energy Analytics CS 309\n",
    "\n",
    "#### Jesse Pisel, Assistant Professor of Practice, University of Texas at Austin\n",
    "**[Twitter](http://twitter.com/geologyjesse)** | **[GitHub](https://github.com/jessepisel)** | **[GoogleScholar](https://scholar.google.com/citations?user=Z4JzYgIAAAAJ&hl=en&oi=ao)** | **[LinkedIn](https://www.linkedin.com/in/jesse-pisel-70519430/)**"
   ]
  },
  {
   "cell_type": "code",
   "execution_count": 1,
   "metadata": {},
   "outputs": [],
   "source": [
    "import pandas as pd\n",
    "import numpy as np\n",
    "import matplotlib.pyplot as plt\n",
    "import seaborn as sns; sns.set()\n",
    "import torch\n",
    "from torch import nn\n",
    "from sklearn import preprocessing #for label encoding\n",
    "from sklearn.model_selection import train_test_split\n",
    "%matplotlib inline"
   ]
  },
  {
   "cell_type": "code",
   "execution_count": 2,
   "metadata": {},
   "outputs": [],
   "source": [
    "data = pd.read_csv(r'well_data.csv') #read it in\n",
    "le = preprocessing.LabelEncoder()\n",
    "top_names = data.TOP\n",
    "le.fit(data.TOP)\n",
    "tops = le.transform(data.TOP)\n",
    "data.drop('TOP', axis=1, inplace=True)"
   ]
  },
  {
   "cell_type": "markdown",
   "metadata": {},
   "source": [
    "This time we want to split our data into train and test datasets to see how our model is performing"
   ]
  },
  {
   "cell_type": "code",
   "execution_count": 3,
   "metadata": {},
   "outputs": [],
   "source": [
    "X_train, X_test, y_train, y_test = train_test_split(data.values, tops, test_size=0.2, \n",
    "                                                    random_state=86)"
   ]
  },
  {
   "cell_type": "markdown",
   "metadata": {},
   "source": [
    "And, also construct our test and train loaders"
   ]
  },
  {
   "cell_type": "code",
   "execution_count": 4,
   "metadata": {},
   "outputs": [],
   "source": [
    "Batch_Size = 64\n",
    "train = torch.utils.data.TensorDataset(torch.Tensor(np.array(X_train)), \n",
    "                                       torch.Tensor(np.array(y_train)))\n",
    "train_loader = torch.utils.data.DataLoader(train, batch_size = Batch_Size, shuffle = True)\n",
    "\n",
    "test = torch.utils.data.TensorDataset(torch.Tensor(np.array(X_test)), \n",
    "                                      torch.Tensor(np.array(y_test)))\n",
    "test_loader = torch.utils.data.DataLoader(train, batch_size = Batch_Size, shuffle = True)\n",
    "\n",
    "features, labels = next(iter(train_loader))"
   ]
  },
  {
   "cell_type": "markdown",
   "metadata": {},
   "source": [
    "Next, build up a network architecture with 2 hidden layers, with `ReLu` activations, and a `log_softmax` final activation"
   ]
  },
  {
   "cell_type": "code",
   "execution_count": 5,
   "metadata": {},
   "outputs": [
    {
     "name": "stdout",
     "output_type": "stream",
     "text": [
      "Sequential(\n",
      "  (0): Linear(in_features=27, out_features=54, bias=True)\n",
      "  (1): ReLU()\n",
      "  (2): Linear(in_features=54, out_features=10, bias=True)\n",
      "  (3): ReLU()\n",
      "  (4): Linear(in_features=10, out_features=2, bias=True)\n",
      ")\n",
      "tensor(65.8329, grad_fn=<NllLossBackward>)\n"
     ]
    }
   ],
   "source": [
    "from torch import nn, optim\n",
    "import torch.nn.functional as F\n",
    "\n",
    "class Classifier(nn.Module):\n",
    "    def __init__(self):\n",
    "        super().__init__()\n",
    "        self.fc1 = nn.Linear(27, 54)\n",
    "        self.fc2 = nn.Linear(54, 10)\n",
    "        self.fc3 = nn.Linear(10, 4)\n",
    "        self.fc4 = nn.Linear(4, 2)\n",
    "        \n",
    "    def forward(self, x):\n",
    "        # make sure input tensor is flattened\n",
    "        x = x.view(x.shape[0], -1)\n",
    "        \n",
    "        x = F.relu(self.fc1(x))\n",
    "        x = F.relu(self.fc2(x))\n",
    "        x = F.relu(self.fc3(x))\n",
    "        x = F.log_softmax(self.fc4(x), dim=1)\n",
    "        \n",
    "        return x\n",
    "    \n",
    "# Hyperparameters for our network\n",
    "input_size = 27\n",
    "hidden_sizes = [54, 10]\n",
    "output_size = 2\n",
    "\n",
    "# Build a feed-forward network\n",
    "model = nn.Sequential(nn.Linear(input_size, hidden_sizes[0]),\n",
    "                      nn.ReLU(),\n",
    "                      nn.Linear(hidden_sizes[0], hidden_sizes[1]),\n",
    "                      nn.ReLU(),\n",
    "                      nn.Linear(hidden_sizes[1], output_size),\n",
    "                     )\n",
    "print(model)\n",
    "\n",
    "# Define our loss function\n",
    "criterion = nn.CrossEntropyLoss()\n",
    "\n",
    "# Do a forward pass\n",
    "logps = model(features)\n",
    "\n",
    "# Now we need to calculate our loss (how close are the predictions)\n",
    "loss = criterion(logps, labels.type(torch.LongTensor))\n",
    "\n",
    "print(loss)"
   ]
  },
  {
   "cell_type": "markdown",
   "metadata": {},
   "source": [
    "Instantiate our model, and since the output is `log_softmax` we need to take the exponential to get the probabilities. After that we want to choose the highest probability using the `.topk` method on our probabilities"
   ]
  },
  {
   "cell_type": "code",
   "execution_count": 6,
   "metadata": {},
   "outputs": [
    {
     "name": "stdout",
     "output_type": "stream",
     "text": [
      "tensor([[1],\n",
      "        [1],\n",
      "        [1],\n",
      "        [1],\n",
      "        [1],\n",
      "        [1],\n",
      "        [1],\n",
      "        [1],\n",
      "        [1],\n",
      "        [1]])\n"
     ]
    }
   ],
   "source": [
    "model = Classifier()\n",
    "# Get the class probabilities\n",
    "probabilities = torch.exp(model(features))\n",
    "highest_prob, predicted_class = probabilities.topk(1, dim=1)\n",
    "print(predicted_class[:10,:])"
   ]
  },
  {
   "cell_type": "markdown",
   "metadata": {},
   "source": [
    "Once we have the predicted labels, we want to define the accuracy. To do this we want to compare the predicted class with the actual class. So we take the labels, reshape them, and check if they are equal to the predictions"
   ]
  },
  {
   "cell_type": "code",
   "execution_count": 7,
   "metadata": {},
   "outputs": [
    {
     "name": "stdout",
     "output_type": "stream",
     "text": [
      "tensor([[False],\n",
      "        [False],\n",
      "        [False],\n",
      "        [False],\n",
      "        [False],\n",
      "        [False],\n",
      "        [False],\n",
      "        [False],\n",
      "        [False],\n",
      "        [False]])\n"
     ]
    }
   ],
   "source": [
    "correct = predicted_class == labels.view(*predicted_class.shape)\n",
    "print(correct[:10])"
   ]
  },
  {
   "cell_type": "markdown",
   "metadata": {},
   "source": [
    "We want to convert the true and false values to 0 for incorrect and 1 for correct so we change the type to `FloatTensor`. We then calculate the mean of this tensor to get the accuracy. So for example, if all the values are correct, then they are all 1's and it has 100% accuracy. If they are all wrong they will all be 0's and have 0% accuracy"
   ]
  },
  {
   "cell_type": "code",
   "execution_count": 8,
   "metadata": {},
   "outputs": [
    {
     "name": "stdout",
     "output_type": "stream",
     "text": [
      "Accuracy is 0.140625\n"
     ]
    }
   ],
   "source": [
    "print(f'Accuracy is {torch.mean(correct.type(torch.FloatTensor)).item()}')"
   ]
  },
  {
   "cell_type": "markdown",
   "metadata": {},
   "source": [
    "If we combine all these things together we now have a testing loop that we can run at the end of each epoch. To do the testing, we first turn off gradients with `torch.no_grad()` so that we are not updating our weights on the test data. "
   ]
  },
  {
   "cell_type": "code",
   "execution_count": 9,
   "metadata": {},
   "outputs": [
    {
     "name": "stdout",
     "output_type": "stream",
     "text": [
      "Epoch: 1/30 ===  Training Loss: 2.25 ===  Test Loss: 0.57 ===  Test Accuracy: 0.860 === \n",
      "Epoch: 2/30 ===  Training Loss: 0.522 ===  Test Loss: 0.477 ===  Test Accuracy: 0.860 === \n",
      "Epoch: 3/30 ===  Training Loss: 0.418 ===  Test Loss: 0.311 ===  Test Accuracy: 0.937 === \n",
      "Epoch: 4/30 ===  Training Loss: 0.158 ===  Test Loss: 0.129 ===  Test Accuracy: 0.938 === \n",
      "Epoch: 5/30 ===  Training Loss: 0.148 ===  Test Loss: 0.125 ===  Test Accuracy: 0.938 === \n",
      "Epoch: 6/30 ===  Training Loss: 0.128 ===  Test Loss: 0.145 ===  Test Accuracy: 0.928 === \n",
      "Epoch: 7/30 ===  Training Loss: 0.133 ===  Test Loss: 0.179 ===  Test Accuracy: 0.891 === \n",
      "Epoch: 8/30 ===  Training Loss: 0.132 ===  Test Loss: 0.118 ===  Test Accuracy: 0.957 === \n",
      "Epoch: 9/30 ===  Training Loss: 0.112 ===  Test Loss: 0.125 ===  Test Accuracy: 0.936 === \n",
      "Epoch: 10/30 ===  Training Loss: 0.108 ===  Test Loss: 0.129 ===  Test Accuracy: 0.935 === \n",
      "Epoch: 11/30 ===  Training Loss: 0.119 ===  Test Loss: 0.0959 ===  Test Accuracy: 0.968 === \n",
      "Epoch: 12/30 ===  Training Loss: 0.104 ===  Test Loss: 0.111 ===  Test Accuracy: 0.940 === \n",
      "Epoch: 13/30 ===  Training Loss: 0.0959 ===  Test Loss: 0.147 ===  Test Accuracy: 0.935 === \n",
      "Epoch: 14/30 ===  Training Loss: 0.151 ===  Test Loss: 0.111 ===  Test Accuracy: 0.945 === \n",
      "Epoch: 15/30 ===  Training Loss: 0.0997 ===  Test Loss: 0.0918 ===  Test Accuracy: 0.979 === \n",
      "Epoch: 16/30 ===  Training Loss: 0.0951 ===  Test Loss: 0.0795 ===  Test Accuracy: 0.977 === \n",
      "Epoch: 17/30 ===  Training Loss: 0.0874 ===  Test Loss: 0.0794 ===  Test Accuracy: 0.983 === \n",
      "Epoch: 18/30 ===  Training Loss: 0.0892 ===  Test Loss: 0.0808 ===  Test Accuracy: 0.952 === \n",
      "Epoch: 19/30 ===  Training Loss: 0.0918 ===  Test Loss: 0.0659 ===  Test Accuracy: 0.968 === \n",
      "Epoch: 20/30 ===  Training Loss: 0.0771 ===  Test Loss: 0.0951 ===  Test Accuracy: 0.964 === \n",
      "Epoch: 21/30 ===  Training Loss: 0.0774 ===  Test Loss: 0.158 ===  Test Accuracy: 0.893 === \n",
      "Epoch: 22/30 ===  Training Loss: 0.0782 ===  Test Loss: 0.0543 ===  Test Accuracy: 0.995 === \n",
      "Epoch: 23/30 ===  Training Loss: 0.0691 ===  Test Loss: 0.165 ===  Test Accuracy: 0.941 === \n",
      "Epoch: 24/30 ===  Training Loss: 0.0978 ===  Test Loss: 0.0514 ===  Test Accuracy: 0.974 === \n",
      "Epoch: 25/30 ===  Training Loss: 0.0665 ===  Test Loss: 0.0558 ===  Test Accuracy: 0.963 === \n",
      "Epoch: 26/30 ===  Training Loss: 0.0665 ===  Test Loss: 0.0556 ===  Test Accuracy: 0.983 === \n",
      "Epoch: 27/30 ===  Training Loss: 0.0538 ===  Test Loss: 0.0385 ===  Test Accuracy: 0.995 === \n",
      "Epoch: 28/30 ===  Training Loss: 0.0515 ===  Test Loss: 0.0461 ===  Test Accuracy: 0.984 === \n",
      "Epoch: 29/30 ===  Training Loss: 0.0499 ===  Test Loss: 0.0601 ===  Test Accuracy: 0.958 === \n",
      "Epoch: 30/30 ===  Training Loss: 0.111 ===  Test Loss: 0.087 ===  Test Accuracy: 0.983 === \n"
     ]
    }
   ],
   "source": [
    "model = Classifier()\n",
    "criterion = nn.NLLLoss()\n",
    "optimizer = optim.Adam(model.parameters(), lr=0.003)\n",
    "\n",
    "epochs = 30\n",
    "steps = 0\n",
    "\n",
    "train_losses, test_losses, acc = [], [], []\n",
    "for e in range(epochs):\n",
    "    running_loss = 0\n",
    "    for features, labels in train_loader:\n",
    "        # Training Pass\n",
    "        optimizer.zero_grad()\n",
    "        \n",
    "        logps = model(features)\n",
    "        loss = criterion(logps, labels.type(torch.LongTensor))\n",
    "        loss.backward()\n",
    "        optimizer.step()\n",
    "        \n",
    "        running_loss += loss.item()\n",
    "        \n",
    "    else:\n",
    "        test_loss = 0\n",
    "        accuracy = 0\n",
    "        \n",
    "        # Testing pass\n",
    "        # Turn off gradients for validation, saves memory and computations\n",
    "        with torch.no_grad():\n",
    "            for features, labels in test_loader:\n",
    "                logps = model(features)\n",
    "                test_loss += criterion(logps, labels.type(torch.LongTensor))\n",
    "                \n",
    "                probabilities = torch.exp(model(features))\n",
    "                highest_prob, predicted_class = probabilities.topk(1, dim=1)\n",
    "                correct = predicted_class == labels.view(*predicted_class.shape)\n",
    "                accuracy += torch.mean(correct.type(torch.FloatTensor))\n",
    "        acc.append(accuracy/len(test_loader))\n",
    "        train_losses.append(running_loss/len(train_loader))\n",
    "        test_losses.append(test_loss/len(test_loader))\n",
    "\n",
    "        print(f\"Epoch: {e+1}/{epochs} === \",\n",
    "              f\"Training Loss: {running_loss/len(train_loader):.3} === \",\n",
    "              f\"Test Loss: {test_loss/len(test_loader):.3} === \",\n",
    "              f\"Test Accuracy: {accuracy/len(test_loader):.3f} === \")"
   ]
  },
  {
   "cell_type": "code",
   "execution_count": 10,
   "metadata": {},
   "outputs": [
    {
     "data": {
      "text/plain": [
       "<matplotlib.legend.Legend at 0x1ee81e7b780>"
      ]
     },
     "execution_count": 10,
     "metadata": {},
     "output_type": "execute_result"
    },
    {
     "data": {
      "image/png": "[encoded data removed]",
      "text/plain": [
       "<Figure size 432x288 with 1 Axes>"
      ]
     },
     "metadata": {
      "needs_background": "light"
     },
     "output_type": "display_data"
    }
   ],
   "source": [
    "plt.plot(train_losses, label='Training loss')\n",
    "plt.plot(test_losses, label='Test loss')\n",
    "plt.plot(acc, label='Test Accuracy')\n",
    "plt.legend()"
   ]
  },
  {
   "cell_type": "markdown",
   "metadata": {},
   "source": [
    "Now we want to make predictions with our model. It's really easy, just call the `.eval` method on the model and feed in some data"
   ]
  },
  {
   "cell_type": "code",
   "execution_count": 11,
   "metadata": {},
   "outputs": [],
   "source": [
    "model.eval()\n",
    "# grab the next batch of samples to get predictions\n",
    "features, labels = next(iter(train_loader))\n",
    "\n",
    "with torch.no_grad():\n",
    "    output = model.forward(features)\n",
    "probabilities = torch.exp(output)\n",
    "highest_prob, predicted_class = probabilities.topk(1, dim=1)\n"
   ]
  },
  {
   "cell_type": "code",
   "execution_count": 12,
   "metadata": {},
   "outputs": [
    {
     "data": {
      "text/plain": [
       "Text(0.5, 12.5, 'Predicted Label')"
      ]
     },
     "execution_count": 12,
     "metadata": {},
     "output_type": "execute_result"
    },
    {
     "data": {
      "image/png": "[encoded data removed]",
      "text/plain": [
       "<Figure size 432x288 with 2 Axes>"
      ]
     },
     "metadata": {
      "needs_background": "light"
     },
     "output_type": "display_data"
    }
   ],
   "source": [
    "from sklearn.metrics import confusion_matrix\n",
    "sns.heatmap(confusion_matrix(labels, predicted_class.view(Batch_Size).numpy(), labels=[0, 1]), annot=True)\n",
    "plt.ylabel('True Label')\n",
    "plt.xlabel('Predicted Label')"
   ]
  }
 ],
 "metadata": {
  "kernelspec": {
   "display_name": "Python 3",
   "language": "python",
   "name": "python3"
  },
  "language_info": {
   "codemirror_mode": {
    "name": "ipython",
    "version": 3
   },
   "file_extension": ".py",
   "mimetype": "text/x-python",
   "name": "python",
   "nbconvert_exporter": "python",
   "pygments_lexer": "ipython3",
   "version": "3.6.10"
  }
 },
 "nbformat": 4,
 "nbformat_minor": 4
}
